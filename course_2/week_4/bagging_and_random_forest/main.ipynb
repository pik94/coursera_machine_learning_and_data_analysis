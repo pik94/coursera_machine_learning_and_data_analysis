{
 "cells": [
  {
   "cell_type": "code",
   "execution_count": 2,
   "metadata": {
    "collapsed": true
   },
   "outputs": [
    {
     "name": "stdout",
     "output_type": "stream",
     "text": [
      "Populating the interactive namespace from numpy and matplotlib\n"
     ]
    },
    {
     "name": "stderr",
     "output_type": "stream",
     "text": [
      "/home/pik/.local/lib/python3.5/site-packages/IPython/core/magics/pylab.py:160: UserWarning: pylab import has clobbered these variables: ['sqrt']\n`%matplotlib` prevents importing * from pylab and numpy\n  \"\\n`%matplotlib` prevents importing * from pylab and numpy\"\n"
     ]
    }
   ],
   "source": [
    "import numpy as np\n",
    "from sklearn.datasets import load_digits\n",
    "from sklearn.model_selection import cross_val_score, train_test_split, GridSearchCV, KFold \n",
    "from sklearn.tree import DecisionTreeClassifier\n",
    "from sklearn.ensemble import BaggingClassifier, RandomForestClassifier\n",
    "from sklearn.metrics import accuracy_score\n",
    "from math import sqrt\n",
    "%pylab inline"
   ]
  },
  {
   "cell_type": "code",
   "execution_count": 3,
   "metadata": {},
   "outputs": [],
   "source": [
    "def write_answer(answer, filename):\n",
    "    with open(filename, \"w\") as fout:\n",
    "        fout.write(str(answer))"
   ]
  },
  {
   "cell_type": "markdown",
   "metadata": {},
   "source": [
    "Загрузка данных из датасета и формирование матрицы признаков и целевой переменной"
   ]
  },
  {
   "cell_type": "code",
   "execution_count": 4,
   "metadata": {},
   "outputs": [],
   "source": [
    "dataset = load_digits()\n",
    "X = dataset.data\n",
    "y = dataset.target"
   ]
  },
  {
   "cell_type": "markdown",
   "metadata": {},
   "source": [
    "Создадим и обучим решающее дерево"
   ]
  },
  {
   "cell_type": "code",
   "execution_count": 5,
   "metadata": {},
   "outputs": [
    {
     "data": {
      "text/plain": [
       "0.83136435451279866"
      ]
     },
     "execution_count": 5,
     "metadata": {},
     "output_type": "execute_result"
    }
   ],
   "source": [
    "classifier = DecisionTreeClassifier()\n",
    "scores = cross_val_score(classifier, X, y, cv=10)\n",
    "mean_score = scores.mean()\n",
    "write_answer(mean_score, '1.txt')\n",
    "mean_score"
   ]
  },
  {
   "cell_type": "markdown",
   "metadata": {},
   "source": [
    "Построим композицию из 100 решающих деревьев"
   ]
  },
  {
   "cell_type": "code",
   "execution_count": 6,
   "metadata": {},
   "outputs": [
    {
     "data": {
      "text/plain": [
       "0.92324576823033033"
      ]
     },
     "execution_count": 6,
     "metadata": {},
     "output_type": "execute_result"
    }
   ],
   "source": [
    "bagging = BaggingClassifier(base_estimator=classifier, n_estimators=100)\n",
    "scores = cross_val_score(bagging, X, y, cv=10)\n",
    "mean_score = scores.mean()\n",
    "write_answer(mean_score, '2.txt')\n",
    "mean_score"
   ]
  },
  {
   "cell_type": "markdown",
   "metadata": {},
   "source": [
    "Вычислим корень из общего числа признаков"
   ]
  },
  {
   "cell_type": "code",
   "execution_count": 7,
   "metadata": {},
   "outputs": [],
   "source": [
    "d = int(sqrt(X.shape[1]))"
   ]
  },
  {
   "cell_type": "markdown",
   "metadata": {},
   "source": [
    "Обучим каждое дерево композиции на случайном подмножестве признаков."
   ]
  },
  {
   "cell_type": "code",
   "execution_count": 8,
   "metadata": {},
   "outputs": [
    {
     "data": {
      "text/plain": [
       "0.92100079701167414"
      ]
     },
     "execution_count": 8,
     "metadata": {},
     "output_type": "execute_result"
    }
   ],
   "source": [
    "strip_bagging = BaggingClassifier(base_estimator=classifier, n_estimators=100, max_features=d)\n",
    "scores = cross_val_score(bagging, X, y, cv=10)\n",
    "mean_score = scores.mean()\n",
    "write_answer(mean_score, '3.txt')\n",
    "mean_score"
   ]
  },
  {
   "cell_type": "markdown",
   "metadata": {},
   "source": [
    "Обучим каждое дерево признаков на своем случайном подмножестве признаков."
   ]
  },
  {
   "cell_type": "code",
   "execution_count": 9,
   "metadata": {},
   "outputs": [
    {
     "data": {
      "text/plain": [
       "0.94889042018999104"
      ]
     },
     "execution_count": 9,
     "metadata": {},
     "output_type": "execute_result"
    }
   ],
   "source": [
    "strip_classifier = DecisionTreeClassifier(max_features=d)\n",
    "bagging = BaggingClassifier(base_estimator=strip_classifier, n_estimators=100)\n",
    "scores = cross_val_score(bagging, X, y, cv=10)\n",
    "mean_score = scores.mean()\n",
    "write_answer(mean_score, '4.txt')\n",
    "mean_score"
   ]
  },
  {
   "cell_type": "markdown",
   "metadata": {},
   "source": [
    "Проверим случайный лес на переобучение при изменении числа деревьев, на различие качества при малом числе и большом числе деревьев деревьев, а также то, как меняется точность в зависимости от числа деревьев в лесе (пункты 1, 2, 3, 4) "
   ]
  },
  {
   "cell_type": "code",
   "execution_count": 10,
   "metadata": {},
   "outputs": [
    {
     "data": {
      "text/plain": [
       "<matplotlib.legend.Legend at 0x7f668db73668>"
      ]
     },
     "execution_count": 10,
     "metadata": {},
     "output_type": "execute_result"
    },
    {
     "data": {
      "image/png": "[encoded data removed]",
      "text/plain": [
       "<matplotlib.figure.Figure at 0x7f668dda44a8>"
      ]
     },
     "metadata": {},
     "output_type": "display_data"
    }
   ],
   "source": [
    "X_train, X_test, y_train, y_test = train_test_split(X, y, test_size=0.3, random_state=42)\n",
    "numbers_of_trees = [5, 10, 15, 50, 100, 200, 500, 1000]\n",
    "\n",
    "\n",
    "train_scores = []\n",
    "test_scores = []\n",
    "for n in numbers_of_trees:\n",
    "    ran_for_cl = RandomForestClassifier(n_estimators=n)\n",
    "    ran_for_cl.fit(X_train, y_train)\n",
    "    train_scores.append(ran_for_cl.score(X_train, y_train))\n",
    "    test_scores.append(ran_for_cl.score(X_test, y_test))\n",
    "    \n",
    "pylab.grid(True)\n",
    "pylab.plot(numbers_of_trees, train_scores, 'g-', marker='o', label='train')\n",
    "pylab.plot(numbers_of_trees, test_scores, 'r-', marker='o', label='test')\n",
    "pylab.ylim((0.0, 1.05))\n",
    "pylab.legend(loc='lower right')"
   ]
  },
  {
   "cell_type": "markdown",
   "metadata": {},
   "source": [
    "Сравнение результатов при полном использовании признаков и при использовании небольшой части."
   ]
  },
  {
   "cell_type": "markdown",
   "metadata": {},
   "source": [
    "Будем использовать все доступные признаки"
   ]
  },
  {
   "cell_type": "code",
   "execution_count": 11,
   "metadata": {},
   "outputs": [
    {
     "data": {
      "text/plain": [
       "0.92494854627203293"
      ]
     },
     "execution_count": 11,
     "metadata": {},
     "output_type": "execute_result"
    }
   ],
   "source": [
    "ran_for_cl = RandomForestClassifier(n_estimators=200, max_features=X_train.shape[1])\n",
    "scores = cross_val_score(ran_for_cl, X, y, cv=10)\n",
    "mean_score = scores.mean()\n",
    "mean_score"
   ]
  },
  {
   "cell_type": "markdown",
   "metadata": {},
   "source": [
    "А теперь возьмем только часть."
   ]
  },
  {
   "cell_type": "code",
   "execution_count": 12,
   "metadata": {},
   "outputs": [
    {
     "data": {
      "text/plain": [
       "0.95053590778808716"
      ]
     },
     "execution_count": 12,
     "metadata": {},
     "output_type": "execute_result"
    }
   ],
   "source": [
    "ran_for_cl = RandomForestClassifier(n_estimators=200, max_features=d)\n",
    "scores = cross_val_score(ran_for_cl, X, y, cv=10)\n",
    "mean_score = scores.mean()\n",
    "mean_score"
   ]
  },
  {
   "cell_type": "markdown",
   "metadata": {},
   "source": [
    "Сравнение результатов без ограничения глубины и с ограничением глубины (пункты 6, 7)."
   ]
  },
  {
   "cell_type": "markdown",
   "metadata": {},
   "source": [
    "Без ограничения глубины."
   ]
  },
  {
   "cell_type": "code",
   "execution_count": 13,
   "metadata": {},
   "outputs": [
    {
     "data": {
      "text/plain": [
       "0.95721922044385932"
      ]
     },
     "execution_count": 13,
     "metadata": {},
     "output_type": "execute_result"
    }
   ],
   "source": [
    "ran_for_cl = RandomForestClassifier(n_estimators=200)\n",
    "scores = cross_val_score(ran_for_cl, X, y, cv=10)\n",
    "mean_score = scores.mean()\n",
    "mean_score"
   ]
  },
  {
   "cell_type": "markdown",
   "metadata": {},
   "source": [
    "Ограничим глубину."
   ]
  },
  {
   "cell_type": "code",
   "execution_count": 14,
   "metadata": {},
   "outputs": [
    {
     "data": {
      "text/plain": [
       "0.80843028628065561"
      ]
     },
     "execution_count": 14,
     "metadata": {},
     "output_type": "execute_result"
    }
   ],
   "source": [
    "ran_for_cl = RandomForestClassifier(n_estimators=200, max_depth=2)\n",
    "scores = cross_val_score(ran_for_cl, X, y, cv=10)\n",
    "mean_score = scores.mean()\n",
    "mean_score"
   ]
  },
  {
   "cell_type": "code",
   "execution_count": 15,
   "metadata": {},
   "outputs": [],
   "source": [
    "write_answer('2 3 4 7', '5.txt')"
   ]
  },
  {
   "cell_type": "code",
   "execution_count": null,
   "metadata": {},
   "outputs": [],
   "source": []
  }
 ],
 "metadata": {
  "kernelspec": {
   "display_name": "Python 2",
   "language": "python",
   "name": "python2"
  },
  "language_info": {
   "codemirror_mode": {
    "name": "ipython",
    "version": 2
   },
   "file_extension": ".py",
   "mimetype": "text/x-python",
   "name": "python",
   "nbconvert_exporter": "python",
   "pygments_lexer": "ipython2",
   "version": "2.7.6"
  }
 },
 "nbformat": 4,
 "nbformat_minor": 0
}
